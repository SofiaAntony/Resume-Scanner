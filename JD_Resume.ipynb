{
  "nbformat": 4,
  "nbformat_minor": 0,
  "metadata": {
    "colab": {
      "provenance": []
    },
    "kernelspec": {
      "name": "python3",
      "display_name": "Python 3"
    },
    "language_info": {
      "name": "python"
    }
  },
  "cells": [
    {
      "cell_type": "code",
      "source": [
        "!pip install docx2txt"
      ],
      "metadata": {
        "id": "Apzj_qUS1xPs"
      },
      "execution_count": null,
      "outputs": []
    },
    {
      "cell_type": "code",
      "execution_count": 4,
      "metadata": {
        "id": "YibbUAW01a11"
      },
      "outputs": [],
      "source": [
        "import docx2txt"
      ]
    },
    {
      "cell_type": "code",
      "source": [
        "job_description=docx2txt.process('/content/Simple-job-description-template.docx')\n",
        "resume=docx2txt.process('/content/sample-resumes.docx')"
      ],
      "metadata": {
        "id": "dtO3LSzJ2atG"
      },
      "execution_count": 7,
      "outputs": []
    },
    {
      "cell_type": "code",
      "source": [
        "print(resume)"
      ],
      "metadata": {
        "colab": {
          "base_uri": "https://localhost:8080/"
        },
        "id": "0fQDuAH94d0A",
        "outputId": "2a47151a-9d0d-4a23-d3e1-9e4af6a05324"
      },
      "execution_count": 8,
      "outputs": [
        {
          "output_type": "stream",
          "name": "stdout",
          "text": [
            "SAMPLE RESUME #1 – Optional format with no objective\n",
            "\n",
            "\n",
            "\n",
            "Your Name\n",
            "\n",
            "Street Address • City, State, Zip • Telephone number • E-mail\n",
            "\n",
            "\n",
            "\n",
            "\n",
            "\n",
            "\n",
            "\n",
            "EDUCATION\n",
            "\n",
            "\n",
            "\n",
            "\tUniversity of California, Santa Cruz \tSanta Cruz, CA Master of Science in Applied Economics and Finance \tExpected June 2017\n",
            "\n",
            "Current GPA\n",
            "\n",
            "\t\tList any honors or awards\n",
            "\n",
            "\t\tThesis or special project title can be listed here\n",
            "\n",
            "\n",
            "\n",
            "Related Course Work (Add left tabs at 4 1/4 and 4 1/2)\n",
            "\n",
            "\t•   Course Name \t•   Course Name\n",
            "\n",
            "\t•   Course Name \t•   Course Name\n",
            "\n",
            "\n",
            "\n",
            "\tList Undergraduate College or University \tCity, State\n",
            "\n",
            "\tDegree \tDate Received\n",
            "\n",
            "•   Related awards or honors can be mentioned here\n",
            "\n",
            "\n",
            "\n",
            "RELATED EXPERIENCE\n",
            "\n",
            "\n",
            "\n",
            "\tName of Company \tCity, State\n",
            "\n",
            "\tTitle \tDates\n",
            "\n",
            "•   Information about what you did and accomplished\n",
            "\n",
            "•   Start each phrase with action words\n",
            "\n",
            "•   If job is current use present tense -  If job is over use past tense\n",
            "\n",
            "\n",
            "\n",
            "\tName of Company (Don’t forget academic experience) \tCity, State\n",
            "\n",
            "\tTitle \tDates\n",
            "\n",
            "•   What you did for company or client\n",
            "\n",
            "•   More information about what you did\n",
            "\n",
            "\tPrior Title (if you have held two different positions at the same company) \tDates\n",
            "\n",
            "\n",
            "\n",
            "ADDITIONAL EXPERIENCE\n",
            "\n",
            "\n",
            "\n",
            "\tName of Company \tCity, State\n",
            "\n",
            "\tTitle \tDates\n",
            "\n",
            "\n",
            "\n",
            "\tName of Company \tCity, State\n",
            "\n",
            "\tTitle \tDates\n",
            "\n",
            "\n",
            "\n",
            "ACTIVITIES\n",
            "\n",
            "\n",
            "\n",
            "•   List extracurricular activities and volunteer work here\n",
            "\n",
            "\n",
            "\n",
            "SKILLS\n",
            "\n",
            "\n",
            "\n",
            "Computer: Knowledge of PC and Macintosh formats:  Word, Excel, PowerPoint, Dreamweaver, FileMaker Pro\n",
            "\n",
            "Languages: Fluent in Chinese, basic knowledge of French\n",
            "\n",
            "\n",
            "\n",
            "HONORS AND AWARDS\n",
            "\n",
            "\t\tList any relevant honors or awards\n",
            "\n",
            "\n",
            "\n",
            "SAMPLE RESUME #2 – Optional format for people with extensive full time experience\n",
            "\n",
            "\n",
            "\n",
            "Your Name\n",
            "\n",
            "Street Address • City, State, Zip • Telephone number • E-mail\n",
            "\n",
            "\n",
            "\n",
            "\n",
            "\n",
            "\n",
            "\n",
            "QUALIFICATIONS\n",
            "\n",
            "•   Eighteen years of varied industry experience in senior level corporate communications\n",
            "\n",
            "•   Demonstrated management leadership ability with staff and budgets\n",
            "\n",
            "•   Sole spokesperson, lobbyist, and avenue of last resort for internal and external conflict resolution\n",
            "\n",
            "•   Possess strong resilient sense of confidence\n",
            "\n",
            "•   Superior written, verbal and interpersonal communication skills\n",
            "\n",
            "•   Provide strategy, counsel and guidance to CEO and senior management\n",
            "\n",
            "\n",
            "\n",
            "PROFESSIONAL EXPERIENCE\n",
            "\n",
            "\tName of Company \tCity, State\n",
            "\n",
            "\tTitle \tDates\n",
            "\n",
            "•   Information about what you did and accomplished\n",
            "\n",
            "•   Start each phrase with action words\n",
            "\n",
            "•   If job is current use present tense -  If job is over use past tense\n",
            "\n",
            "•\n",
            "\n",
            "•\n",
            "\n",
            "•\n",
            "\n",
            "\n",
            "\n",
            "\tName of Company \tCity, State\n",
            "\n",
            "\tTitle \tDates\n",
            "\n",
            "•   What you did for company or client\n",
            "\n",
            "•   More information about what you did\n",
            "\n",
            "•\n",
            "\n",
            "\tPrior Title (if you have held two different positions at the same company \tDates\n",
            "\n",
            "•\n",
            "\n",
            "•\n",
            "\n",
            "\n",
            "\n",
            "\tName of Company \tCity, State\n",
            "\n",
            "\tTitle \tDates\n",
            "\n",
            "•\n",
            "\n",
            "•\n",
            "\n",
            "\n",
            "\n",
            "\tName of Company \tCity, State\n",
            "\n",
            "\tTitle \tDates\n",
            "\n",
            "•\n",
            "\n",
            "•\n",
            "\n",
            "\n",
            "\n",
            "EDUCATION\n",
            "\n",
            "\tUniversity of California, Santa Cruz \tSanta Cruz, CA Master of Science in Applied Economics and Finance \tExpected June 2017\n",
            "\n",
            "Current GPA\n",
            "\n",
            "\t\tList any honors or awards\n",
            "\n",
            "\t\tThesis or special project title can be listed here\n",
            "\n",
            "\n",
            "\n",
            "\n",
            "\n",
            "\n",
            "\n",
            "SKILLS\n",
            "\n",
            "\tComputer:   Knowledge of PC and Macintosh formats: Word, Excel, PowerPoint, Dreamweaver, FileMaker Pro\n",
            "\n",
            "\tLanguages:   Fluent in Spanish, basic knowledge of French\n"
          ]
        }
      ]
    },
    {
      "cell_type": "code",
      "source": [
        "content =[job_description,resume]"
      ],
      "metadata": {
        "id": "6EbrppDm4k-M"
      },
      "execution_count": 9,
      "outputs": []
    },
    {
      "cell_type": "code",
      "source": [
        "\n",
        "from sklearn.feature_extraction.text import CountVectorizer\n",
        "cv=CountVectorizer()\n",
        "matrix=cv.fit_transform(content)\n"
      ],
      "metadata": {
        "id": "wZTH8Opz4rry"
      },
      "execution_count": 15,
      "outputs": []
    },
    {
      "cell_type": "code",
      "source": [
        "from sklearn.metrics.pairwise import cosine_similarity\n",
        "similarity_matrix=cosine_similarity(matrix)"
      ],
      "metadata": {
        "id": "LuXl7UcB5i0S"
      },
      "execution_count": 16,
      "outputs": []
    },
    {
      "cell_type": "code",
      "source": [
        "print(similarity_matrix)"
      ],
      "metadata": {
        "colab": {
          "base_uri": "https://localhost:8080/"
        },
        "id": "jS6sBv5Z5yPj",
        "outputId": "cb0e3726-6086-466f-f049-faadff0c7698"
      },
      "execution_count": 17,
      "outputs": [
        {
          "output_type": "stream",
          "name": "stdout",
          "text": [
            "[[1.         0.44399782]\n",
            " [0.44399782 1.        ]]\n"
          ]
        }
      ]
    },
    {
      "cell_type": "code",
      "source": [
        "print('Resume matches by:'+str(similarity_matrix[1][0]))"
      ],
      "metadata": {
        "colab": {
          "base_uri": "https://localhost:8080/"
        },
        "id": "GE46Gq7-511H",
        "outputId": "2e83f24b-e778-44fc-cd51-5b102042d14c"
      },
      "execution_count": 18,
      "outputs": [
        {
          "output_type": "stream",
          "name": "stdout",
          "text": [
            "Resume matches by:0.4439978166618206\n"
          ]
        }
      ]
    },
    {
      "cell_type": "code",
      "source": [
        "print('Resume matches by:'+str(similarity_matrix[1][0]*100)+'%')"
      ],
      "metadata": {
        "colab": {
          "base_uri": "https://localhost:8080/"
        },
        "id": "BcTw8_hE6Pl6",
        "outputId": "8fef4a36-fa93-4f47-e70d-400a9b0573e2"
      },
      "execution_count": 19,
      "outputs": [
        {
          "output_type": "stream",
          "name": "stdout",
          "text": [
            "Resume matches by:44.39978166618206%\n"
          ]
        }
      ]
    },
    {
      "cell_type": "code",
      "source": [],
      "metadata": {
        "id": "J9YacAZu7Kw9"
      },
      "execution_count": null,
      "outputs": []
    }
  ]
}